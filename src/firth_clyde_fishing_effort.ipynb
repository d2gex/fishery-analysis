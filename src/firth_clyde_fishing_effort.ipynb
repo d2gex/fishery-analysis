{
 "cells": [
  {
   "cell_type": "code",
   "execution_count": 8,
   "id": "0d88b2d5-1c9e-4e93-9d6e-f382465073d0",
   "metadata": {},
   "outputs": [
    {
     "data": {
      "text/plain": [
       "True"
      ]
     },
     "execution_count": 8,
     "metadata": {},
     "output_type": "execute_result"
    }
   ],
   "source": [
    "import os\n",
    "import requests\n",
    "import json\n",
    "import pandas as pd\n",
    "\n",
    "from pathlib import Path\n",
    "from dotenv import load_dotenv\n",
    "from os.path import join\n",
    "from typing import List, Dict\n",
    "from datetime import datetime, timezone\n",
    "\n",
    "\n",
    "path = Path(__file__).resolve()\n",
    "ROOT_PATH = path.parents[1]\n",
    "\n",
    "# Basic paths to key folders\n",
    "SRC_PATH = ROOT_PATH / 'src'\n",
    "DATA_PATH = ROOT_PATH / 'data'\n",
    "\n",
    "load_dotenv(join(SRC_PATH, '.env'))"
   ]
  },
  {
   "cell_type": "code",
   "execution_count": 9,
   "id": "8432b07d-c602-4f04-9067-2548da86b753",
   "metadata": {
    "tags": []
   },
   "outputs": [],
   "source": [
    "API_URL = 'https://gateway.api.globalfishingwatch.org/v2/4wings/report'\n",
    "API_TOKEN =  os.getenv('GFW_TOKEN')\n",
    "API_HEADERS = {\n",
    "    'Authorization': f'Bearer {API_TOKEN}',\n",
    "}\n",
    "\n",
    "#'2021-01-01T00:00:00.000Z,2022-01-01T00:00:00.000Z'\n",
    "API_PARAMS = {\n",
    "    'spatial-resolution': 'low',\n",
    "    'temporal-resolution': 'yearly',\n",
    "    'group-by': 'gearType',\n",
    "    'datasets[0]': 'public-global-fishing-effort:latest',\n",
    "    'date-range': None,\n",
    "    'format': 'json'\n",
    "}\n",
    "API_DATA = {'geojson': {\n",
    "    'type': 'Polygon',\n",
    "    'coordinates': [[\n",
    "    [-5.6115,55.0049],# bottom-left; polygon formed counter-clock wise\n",
    "    [-4.6104,55.0049],\n",
    "    [-4.6104,56.0994],\n",
    "    [-5.6115,56.0994],\n",
    "    [-5.6115,55.0049],\n",
    "    ]]\n",
    "}}\n",
    "REQUESTED_YEARS = [2012 + x for x in range(11)]"
   ]
  },
  {
   "cell_type": "code",
   "execution_count": 10,
   "id": "fb7a8789-a886-4b22-9648-96bb5824ec0e",
   "metadata": {
    "tags": []
   },
   "outputs": [],
   "source": [
    "def build_data_range(years: List[int]) -> List[str]:\n",
    "    data = []\n",
    "    for year in years:\n",
    "        start_date = datetime(year, 1, 1, 0, 0, 0, tzinfo=timezone.utc).isoformat().replace(\"+00:00\", \"Z\")\n",
    "        end_date = datetime(year + 1, 1, 1, 0, 0, 0, tzinfo=timezone.utc).isoformat().replace(\"+00:00\", \"Z\")\n",
    "        data.append(f\"{start_date},{end_date}\")\n",
    "    return data"
   ]
  },
  {
   "cell_type": "code",
   "execution_count": 24,
   "id": "412546b1-10de-4a3b-a8d7-fe7df198a16e",
   "metadata": {
    "tags": []
   },
   "outputs": [],
   "source": [
    "def build_multiple_request_parameters (api_url: str, \n",
    "                                       api_headers: Dict, \n",
    "                                       api_params: Dict, \n",
    "                                       api_data: Dict, \n",
    "                                       years: List[int]) -> List[Dict]:\n",
    "    data = []\n",
    "    date_range = build_data_range (years)\n",
    "    for period in date_range:\n",
    "        params = dict(api_params)\n",
    "        params['date-range'] = period\n",
    "        data.append({\n",
    "            'url' : api_url,\n",
    "            'headers': api_headers,\n",
    "            'params': params,\n",
    "            'json': api_data\n",
    "        })\n",
    "    return data\n",
    "        "
   ]
  },
  {
   "cell_type": "code",
   "execution_count": null,
   "id": "23250a0f-e224-4465-a152-a75ec11512ab",
   "metadata": {},
   "outputs": [],
   "source": []
  },
  {
   "cell_type": "code",
   "execution_count": 36,
   "id": "2d6d5cfd-a38b-42a1-a78c-36ce6aca951a",
   "metadata": {
    "tags": []
   },
   "outputs": [],
   "source": [
    "years = [2012 + x for x in range(11)]\n",
    "api_context = build_multiple_request_parameters(API_URL, API_HEADERS, API_PARAMS, API_DATA, REQUESTED_YEARS)"
   ]
  },
  {
   "cell_type": "code",
   "execution_count": 28,
   "id": "5c6404b3-54ab-4158-8dae-639f0f3d1784",
   "metadata": {
    "tags": []
   },
   "outputs": [],
   "source": [
    "# fishing_effort_data = []\n",
    "# with requests.Session() as r_s:\n",
    "#     for context in api_context:\n",
    "#         r = r_s.post(**context)\n",
    "#         fishing_effort_data.append(r.json())"
   ]
  },
  {
   "cell_type": "code",
   "execution_count": 31,
   "id": "a45714c8-ed7a-4876-afd7-ffa05bbb649a",
   "metadata": {
    "tags": []
   },
   "outputs": [],
   "source": [
    "def concatenate_time_series(api_results: List[Dict]) -> pd.DataFrame:\n",
    "    return pd.concat([\n",
    "        pd.DataFrame.from_records (record['entries'][0]['public-global-fishing-effort:v20201001']) \n",
    "        for record in api_results\n",
    "    ])"
   ]
  },
  {
   "cell_type": "code",
   "execution_count": 32,
   "id": "7eb89e6c-8429-46fc-9768-6cad7539575d",
   "metadata": {
    "tags": []
   },
   "outputs": [],
   "source": [
    "timeseries = concatenate_time_series (fishing_effort_data)"
   ]
  },
  {
   "cell_type": "code",
   "execution_count": 35,
   "id": "fe975bc6-f7bb-4eac-bf55-5bbabc38109f",
   "metadata": {
    "tags": []
   },
   "outputs": [
    {
     "data": {
      "text/plain": [
       "1427"
      ]
     },
     "execution_count": 35,
     "metadata": {},
     "output_type": "execute_result"
    }
   ],
   "source": [
    "len(timeseries)"
   ]
  }
 ],
 "metadata": {
  "kernelspec": {
   "display_name": "Python 3 (ipykernel)",
   "language": "python",
   "name": "python3"
  },
  "language_info": {
   "codemirror_mode": {
    "name": "ipython",
    "version": 3
   },
   "file_extension": ".py",
   "mimetype": "text/x-python",
   "name": "python",
   "nbconvert_exporter": "python",
   "pygments_lexer": "ipython3",
   "version": "3.9.4"
  }
 },
 "nbformat": 4,
 "nbformat_minor": 5
}
