{
 "cells": [
  {
   "cell_type": "code",
   "execution_count": 53,
   "id": "0d88b2d5-1c9e-4e93-9d6e-f382465073d0",
   "metadata": {},
   "outputs": [
    {
     "data": {
      "text/plain": [
       "True"
      ]
     },
     "execution_count": 53,
     "metadata": {},
     "output_type": "execute_result"
    }
   ],
   "source": [
    "import os\n",
    "import requests\n",
    "import json\n",
    "import pandas as pd\n",
    "import seaborn as sns\n",
    "import numpy as np\n",
    "import matplotlib.pyplot as plt\n",
    "import matplotlib.patches as mpatches\n",
    "\n",
    "from pathlib import Path\n",
    "from dotenv import load_dotenv\n",
    "from os.path import join\n",
    "from typing import List, Dict\n",
    "from datetime import datetime, timezone\n",
    "\n",
    "\n",
    "path = Path(__file__).resolve()\n",
    "ROOT_PATH = path.parents[1]\n",
    "\n",
    "# Basic paths to key folders\n",
    "SRC_PATH = ROOT_PATH / 'src'\n",
    "DATA_PATH = ROOT_PATH / 'data'\n",
    "\n",
    "load_dotenv(join(SRC_PATH, '.env'))"
   ]
  },
  {
   "cell_type": "code",
   "execution_count": 9,
   "id": "8432b07d-c602-4f04-9067-2548da86b753",
   "metadata": {
    "tags": []
   },
   "outputs": [],
   "source": [
    "API_URL = 'https://gateway.api.globalfishingwatch.org/v2/4wings/report'\n",
    "API_TOKEN =  os.getenv('GFW_TOKEN')\n",
    "API_HEADERS = {\n",
    "    'Authorization': f'Bearer {API_TOKEN}',\n",
    "}\n",
    "\n",
    "#'2021-01-01T00:00:00.000Z,2022-01-01T00:00:00.000Z'\n",
    "API_PARAMS = {\n",
    "    'spatial-resolution': 'low',\n",
    "    'temporal-resolution': 'yearly',\n",
    "    'group-by': 'gearType',\n",
    "    'datasets[0]': 'public-global-fishing-effort:latest',\n",
    "    'date-range': None,\n",
    "    'format': 'json'\n",
    "}\n",
    "API_DATA = {'geojson': {\n",
    "    'type': 'Polygon',\n",
    "    'coordinates': [[\n",
    "    [-5.6115,55.0049],# bottom-left; polygon formed counter-clock wise\n",
    "    [-4.6104,55.0049],\n",
    "    [-4.6104,56.0994],\n",
    "    [-5.6115,56.0994],\n",
    "    [-5.6115,55.0049],\n",
    "    ]]\n",
    "}}\n",
    "REQUESTED_YEARS = [2012 + x for x in range(11)]"
   ]
  },
  {
   "cell_type": "code",
   "execution_count": 10,
   "id": "fb7a8789-a886-4b22-9648-96bb5824ec0e",
   "metadata": {
    "tags": []
   },
   "outputs": [],
   "source": [
    "def build_data_range(years: List[int]) -> List[str]:\n",
    "    data = []\n",
    "    for year in years:\n",
    "        start_date = datetime(year, 1, 1, 0, 0, 0, tzinfo=timezone.utc).isoformat().replace(\"+00:00\", \"Z\")\n",
    "        end_date = datetime(year + 1, 1, 1, 0, 0, 0, tzinfo=timezone.utc).isoformat().replace(\"+00:00\", \"Z\")\n",
    "        data.append(f\"{start_date},{end_date}\")\n",
    "    return data"
   ]
  },
  {
   "cell_type": "code",
   "execution_count": 24,
   "id": "412546b1-10de-4a3b-a8d7-fe7df198a16e",
   "metadata": {
    "tags": []
   },
   "outputs": [],
   "source": [
    "def build_multiple_request_parameters (api_url: str, \n",
    "                                       api_headers: Dict, \n",
    "                                       api_params: Dict, \n",
    "                                       api_data: Dict, \n",
    "                                       years: List[int]) -> List[Dict]:\n",
    "    data = []\n",
    "    date_range = build_data_range (years)\n",
    "    for period in date_range:\n",
    "        params = dict(api_params)\n",
    "        params['date-range'] = period\n",
    "        data.append({\n",
    "            'url' : api_url,\n",
    "            'headers': api_headers,\n",
    "            'params': params,\n",
    "            'json': api_data\n",
    "        })\n",
    "    return data\n",
    "        "
   ]
  },
  {
   "cell_type": "code",
   "execution_count": null,
   "id": "23250a0f-e224-4465-a152-a75ec11512ab",
   "metadata": {},
   "outputs": [],
   "source": []
  },
  {
   "cell_type": "code",
   "execution_count": 36,
   "id": "2d6d5cfd-a38b-42a1-a78c-36ce6aca951a",
   "metadata": {
    "tags": []
   },
   "outputs": [],
   "source": [
    "years = [2012 + x for x in range(11)]\n",
    "api_context = build_multiple_request_parameters(API_URL, API_HEADERS, API_PARAMS, API_DATA, REQUESTED_YEARS)"
   ]
  },
  {
   "cell_type": "code",
   "execution_count": 28,
   "id": "5c6404b3-54ab-4158-8dae-639f0f3d1784",
   "metadata": {
    "tags": []
   },
   "outputs": [],
   "source": [
    "# fishing_effort_data = []\n",
    "# with requests.Session() as r_s:\n",
    "#     for context in api_context:\n",
    "#         r = r_s.post(**context)\n",
    "#         fishing_effort_data.append(r.json())"
   ]
  },
  {
   "cell_type": "code",
   "execution_count": 31,
   "id": "a45714c8-ed7a-4876-afd7-ffa05bbb649a",
   "metadata": {
    "tags": []
   },
   "outputs": [],
   "source": [
    "def concatenate_time_series(api_results: List[Dict]) -> pd.DataFrame:\n",
    "    return pd.concat([\n",
    "        pd.DataFrame.from_records (record['entries'][0]['public-global-fishing-effort:v20201001']) \n",
    "        for record in api_results\n",
    "    ])"
   ]
  },
  {
   "cell_type": "code",
   "execution_count": 32,
   "id": "7eb89e6c-8429-46fc-9768-6cad7539575d",
   "metadata": {
    "tags": []
   },
   "outputs": [],
   "source": [
    "timeseries = concatenate_time_series (fishing_effort_data)"
   ]
  },
  {
   "cell_type": "code",
   "execution_count": 73,
   "id": "fe975bc6-f7bb-4eac-bf55-5bbabc38109f",
   "metadata": {
    "tags": []
   },
   "outputs": [
    {
     "data": {
      "text/html": [
       "<div>\n",
       "<style scoped>\n",
       "    .dataframe tbody tr th:only-of-type {\n",
       "        vertical-align: middle;\n",
       "    }\n",
       "\n",
       "    .dataframe tbody tr th {\n",
       "        vertical-align: top;\n",
       "    }\n",
       "\n",
       "    .dataframe thead th {\n",
       "        text-align: right;\n",
       "    }\n",
       "</style>\n",
       "<table border=\"1\" class=\"dataframe\">\n",
       "  <thead>\n",
       "    <tr style=\"text-align: right;\">\n",
       "      <th></th>\n",
       "      <th>date</th>\n",
       "      <th>geartype</th>\n",
       "      <th>hours</th>\n",
       "    </tr>\n",
       "  </thead>\n",
       "  <tbody>\n",
       "    <tr>\n",
       "      <th>2</th>\n",
       "      <td>2012</td>\n",
       "      <td>trawlers</td>\n",
       "      <td>2214.153333</td>\n",
       "    </tr>\n",
       "    <tr>\n",
       "      <th>1</th>\n",
       "      <td>2012</td>\n",
       "      <td>set_gillnets</td>\n",
       "      <td>376.740278</td>\n",
       "    </tr>\n",
       "    <tr>\n",
       "      <th>0</th>\n",
       "      <td>2012</td>\n",
       "      <td>fishing</td>\n",
       "      <td>225.152500</td>\n",
       "    </tr>\n",
       "    <tr>\n",
       "      <th>6</th>\n",
       "      <td>2013</td>\n",
       "      <td>trawlers</td>\n",
       "      <td>21593.288889</td>\n",
       "    </tr>\n",
       "    <tr>\n",
       "      <th>4</th>\n",
       "      <td>2013</td>\n",
       "      <td>fishing</td>\n",
       "      <td>995.507500</td>\n",
       "    </tr>\n",
       "    <tr>\n",
       "      <th>...</th>\n",
       "      <td>...</td>\n",
       "      <td>...</td>\n",
       "      <td>...</td>\n",
       "    </tr>\n",
       "    <tr>\n",
       "      <th>63</th>\n",
       "      <td>2022</td>\n",
       "      <td>trawlers</td>\n",
       "      <td>51763.193229</td>\n",
       "    </tr>\n",
       "    <tr>\n",
       "      <th>61</th>\n",
       "      <td>2022</td>\n",
       "      <td>set_gillnets</td>\n",
       "      <td>2382.869728</td>\n",
       "    </tr>\n",
       "    <tr>\n",
       "      <th>60</th>\n",
       "      <td>2022</td>\n",
       "      <td>fishing</td>\n",
       "      <td>941.391189</td>\n",
       "    </tr>\n",
       "    <tr>\n",
       "      <th>59</th>\n",
       "      <td>2022</td>\n",
       "      <td>dredge_fishing</td>\n",
       "      <td>557.003556</td>\n",
       "    </tr>\n",
       "    <tr>\n",
       "      <th>62</th>\n",
       "      <td>2022</td>\n",
       "      <td>set_longlines</td>\n",
       "      <td>0.358611</td>\n",
       "    </tr>\n",
       "  </tbody>\n",
       "</table>\n",
       "<p>64 rows × 3 columns</p>\n",
       "</div>"
      ],
      "text/plain": [
       "    date        geartype         hours\n",
       "2   2012        trawlers   2214.153333\n",
       "1   2012    set_gillnets    376.740278\n",
       "0   2012         fishing    225.152500\n",
       "6   2013        trawlers  21593.288889\n",
       "4   2013         fishing    995.507500\n",
       "..   ...             ...           ...\n",
       "63  2022        trawlers  51763.193229\n",
       "61  2022    set_gillnets   2382.869728\n",
       "60  2022         fishing    941.391189\n",
       "59  2022  dredge_fishing    557.003556\n",
       "62  2022   set_longlines      0.358611\n",
       "\n",
       "[64 rows x 3 columns]"
      ]
     },
     "execution_count": 73,
     "metadata": {},
     "output_type": "execute_result"
    }
   ],
   "source": [
    "# create dataset for a stacked barplot\n",
    "stack_barplot_df = timeseries[['date', 'geartype', 'hours']]\n",
    "stack_barplot_df = stack_barplot_df.groupby(['date', 'geartype']).agg({'hours': 'sum'}).reset_index()\n",
    "stack_barplot_df = stack_barplot_df.sort_values(['date', 'hours'], ascending=[True, False])\n",
    "stack_barplot_df"
   ]
  },
  {
   "cell_type": "code",
   "execution_count": 74,
   "id": "1743ecfe-387a-4f71-b33d-b3d44fc3a48e",
   "metadata": {
    "tags": []
   },
   "outputs": [
    {
     "data": {
      "image/png": "[encoded data removed]",
      "text/plain": [
       "<Figure size 1400x1400 with 1 Axes>"
      ]
     },
     "metadata": {},
     "output_type": "display_data"
    }
   ],
   "source": [
    "plt.figure(figsize=(14, 14))\n",
    "ax = sns.histplot(stack_barplot_df, x='date', hue='geartype', weights='hours',\n",
    "             multiple='stack')"
   ]
  }
 ],
 "metadata": {
  "kernelspec": {
   "display_name": "Python 3 (ipykernel)",
   "language": "python",
   "name": "python3"
  },
  "language_info": {
   "codemirror_mode": {
    "name": "ipython",
    "version": 3
   },
   "file_extension": ".py",
   "mimetype": "text/x-python",
   "name": "python",
   "nbconvert_exporter": "python",
   "pygments_lexer": "ipython3",
   "version": "3.9.4"
  }
 },
 "nbformat": 4,
 "nbformat_minor": 5
}
