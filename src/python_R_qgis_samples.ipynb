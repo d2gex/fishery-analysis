{
 "cells": [
  {
   "cell_type": "code",
   "execution_count": 1,
   "id": "ff6da87c-20c3-484d-9627-549b880154ba",
   "metadata": {
    "tags": []
   },
   "outputs": [],
   "source": [
    "from pathlib import Path\n",
    "from os.path import join\n",
    "from google.cloud import bigquery\n",
    "from google.oauth2 import service_account\n",
    "\n",
    "\n",
    "path = Path(__file__).resolve()\n",
    "ROOT_PATH = path.parents[2]\n",
    "ENV_PATH = ROOT_PATH / 'env'\n",
    "CREDENTIALS_PATH = str(ENV_PATH / 'google_gfw_credentials.json')"
   ]
  },
  {
   "cell_type": "code",
   "execution_count": 2,
   "id": "718e365b-e681-4f66-ac0c-3a3ad2f9f1e3",
   "metadata": {
    "tags": []
   },
   "outputs": [],
   "source": [
    "\n",
    "credentials = service_account.Credentials.from_service_account_file( CREDENTIALS_PATH, scopes=[\"https://www.googleapis.com/auth/cloud-platform\"],)\n",
    "client = bigquery.Client(credentials=credentials, project=credentials.project_id,)\n"
   ]
  },
  {
   "cell_type": "code",
   "execution_count": 3,
   "id": "0edec051-26f3-484f-91b5-7873e7732900",
   "metadata": {
    "tags": []
   },
   "outputs": [],
   "source": [
    "table = \"gfw-testing-377510.fishing_efforts.fishing_data\"\n",
    "query = f\"\"\"\n",
    "SELECT\n",
    "  CONCAT(FORMAT (\"%'.2f\", SUM(CASE\n",
    "          WHEN flag_gfw IS NOT NULL THEN 1\n",
    "        ELSE\n",
    "        0\n",
    "      END\n",
    "        ) / COUNT(*) * 100), '%') AS num_flag_gfw,\n",
    "  CONCAT(FORMAT (\"%'.2f\", SUM(CASE\n",
    "          WHEN flag_ais IS NOT NULL THEN 1\n",
    "        ELSE\n",
    "        0\n",
    "      END\n",
    "        ) / COUNT(*) * 100), '%') AS num_flag_ais,\n",
    "  CONCAT(FORMAT (\"%'.2f\", SUM(CASE\n",
    "          WHEN flag_registry IS NOT NULL THEN 1\n",
    "        ELSE\n",
    "        0\n",
    "      END\n",
    "        ) / COUNT(*) * 100), '%') AS num_flag_registry\n",
    "FROM\n",
    "  {table}\n",
    "  \"\"\"\n",
    "query_job = client.query(query)"
   ]
  },
  {
   "cell_type": "code",
   "execution_count": 4,
   "id": "6b2e52f5-e03c-4260-891e-cb8e33ed79c4",
   "metadata": {
    "tags": []
   },
   "outputs": [
    {
     "data": {
      "text/html": [
       "<div>\n",
       "<style scoped>\n",
       "    .dataframe tbody tr th:only-of-type {\n",
       "        vertical-align: middle;\n",
       "    }\n",
       "\n",
       "    .dataframe tbody tr th {\n",
       "        vertical-align: top;\n",
       "    }\n",
       "\n",
       "    .dataframe thead th {\n",
       "        text-align: right;\n",
       "    }\n",
       "</style>\n",
       "<table border=\"1\" class=\"dataframe\">\n",
       "  <thead>\n",
       "    <tr style=\"text-align: right;\">\n",
       "      <th></th>\n",
       "      <th>num_flag_gfw</th>\n",
       "      <th>num_flag_ais</th>\n",
       "      <th>num_flag_registry</th>\n",
       "    </tr>\n",
       "  </thead>\n",
       "  <tbody>\n",
       "    <tr>\n",
       "      <th>0</th>\n",
       "      <td>99.22%</td>\n",
       "      <td>79.79%</td>\n",
       "      <td>21.59%</td>\n",
       "    </tr>\n",
       "  </tbody>\n",
       "</table>\n",
       "</div>"
      ],
      "text/plain": [
       "  num_flag_gfw num_flag_ais num_flag_registry\n",
       "0       99.22%       79.79%            21.59%"
      ]
     },
     "execution_count": 4,
     "metadata": {},
     "output_type": "execute_result"
    }
   ],
   "source": [
    "query_job.to_dataframe()"
   ]
  }
 ],
 "metadata": {
  "kernelspec": {
   "display_name": "Python 3 (ipykernel)",
   "language": "python",
   "name": "python3"
  },
  "language_info": {
   "codemirror_mode": {
    "name": "ipython",
    "version": 3
   },
   "file_extension": ".py",
   "mimetype": "text/x-python",
   "name": "python",
   "nbconvert_exporter": "python",
   "pygments_lexer": "ipython3",
   "version": "3.9.4"
  }
 },
 "nbformat": 4,
 "nbformat_minor": 5
}
